{
 "cells": [
  {
   "cell_type": "markdown",
   "metadata": {},
   "source": [
    "# importing the necessary Python libraries"
   ]
  },
  {
   "cell_type": "code",
   "execution_count": 1,
   "metadata": {},
   "outputs": [],
   "source": [
    "from nltk.chat.util import Chat, reflections"
   ]
  },
  {
   "cell_type": "markdown",
   "metadata": {},
   "source": [
    "# creating a list of queries and their responses"
   ]
  },
  {
   "cell_type": "code",
   "execution_count": 12,
   "metadata": {},
   "outputs": [],
   "source": [
    "conv = [\n",
    "    [\n",
    "        r\"(.*)your name(.*)\",\n",
    "        [\"My name is the ChatBot, You can call me your assistant.\",]\n",
    "    ],\n",
    "    [\n",
    "        r\"(.*)my name is (.*)\",\n",
    "        [\"Hi %2, How can I help you? \",]\n",
    "    ],\n",
    "    [\n",
    "        r\"(.*)How r you(.*)\",\n",
    "        [\"I am Fine\",\"I am great\", \"I am doing well\",]\n",
    "    ],\n",
    "    [\n",
    "        r\"(.*)sorry(.*)\",\n",
    "        [\"Its allright\",\"Its OK\",\"I don't mind\",]\n",
    "    ],\n",
    "    [\n",
    "        r\"I am (.*) (good|well|okay|fine|ok)\",\n",
    "        [\"Nice to hear\",\"great\",\"alright\",]\n",
    "    ],\n",
    "    [\n",
    "        r\"(hi|hellow)(.*)\",\n",
    "        [\"hey\",\"hi\",\"hellow\",]\n",
    "    ],\n",
    "    [\n",
    "        r\"(.*)(city|locations|town|address)(.*)\",\n",
    "        [\"Kolkata\",\"Kolkata, West Bengal\",]\n",
    "    ],\n",
    "    [\n",
    "        r\"quit\",\n",
    "        [\"Bye, see you soon\"]\n",
    "    ],\n",
    "    [\n",
    "        r\"(.*)\",\n",
    "        [\"I don't know about it\", \"sorry, for that\",\"please ask another one\",]\n",
    "    ], \n",
    "]"
   ]
  },
  {
   "cell_type": "code",
   "execution_count": 13,
   "metadata": {},
   "outputs": [
    {
     "name": "stdout",
     "output_type": "stream",
     "text": [
      "Hi, I am your assistant. You can ask me any questions.\n",
      " type quit for exit\n",
      ">gege\n",
      "sorry, for that\n",
      ">quit\n",
      "Bye, see you soon\n"
     ]
    }
   ],
   "source": [
    "print(\"Hi, I am your assistant. You can ask me any questions.\\n type quit for exit\")\n",
    "chat=Chat(conv, reflections)\n",
    "chat.converse()"
   ]
  },
  {
   "cell_type": "code",
   "execution_count": null,
   "metadata": {},
   "outputs": [],
   "source": []
  }
 ],
 "metadata": {
  "kernelspec": {
   "display_name": "Python 3",
   "language": "python",
   "name": "python3"
  },
  "language_info": {
   "codemirror_mode": {
    "name": "ipython",
    "version": 3
   },
   "file_extension": ".py",
   "mimetype": "text/x-python",
   "name": "python",
   "nbconvert_exporter": "python",
   "pygments_lexer": "ipython3",
   "version": "3.7.6"
  }
 },
 "nbformat": 4,
 "nbformat_minor": 4
}
